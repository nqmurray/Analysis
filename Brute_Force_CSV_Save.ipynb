{
 "cells": [
  {
   "cell_type": "code",
   "execution_count": 21,
   "metadata": {},
   "outputs": [
    {
     "name": "stdout",
     "output_type": "stream",
     "text": [
      "Not adding file: .ipynb_checkpoints\n",
      "Not adding file: AHE.ipynb\n",
      "Not adding file: AMR-USMR.ipynb\n",
      "Not adding file: AnalysisFunctions.py\n",
      "Not adding file: Data_Cleaner.ipynb\n",
      "Not adding file: Messy_AHE\n",
      "Not adding file: Pandas_Tutorial.ipynb\n",
      "Not adding file: Pulse_Switching.ipynb\n",
      "Added file\n",
      "Not adding file: __pycache__\n"
     ]
    }
   ],
   "source": [
    "import os\n",
    "import re\n",
    "import csv\n",
    "import time\n",
    "import difflib\n",
    "\n",
    "directory = r'C:\\Users\\Neuromancer\\Desktop\\Presentation'\n",
    "\n",
    "# scan through directory finding all unprocessed files\n",
    "def find_files_to_edit(directory):\n",
    "    # filename ends with this datetime formatting\n",
    "    name_finder = re.compile(r'_\\d\\d\\d\\d-\\d\\d-\\d\\d-\\d\\d\\d\\d\\d\\d$')\n",
    "    file_list = []\n",
    "    for filename in os.listdir(directory):\n",
    "        if name_finder.search(filename) is not None:\n",
    "            file_list.append(directory + '\\\\' + filename)\n",
    "            print('Added file')\n",
    "        else:\n",
    "            print('Not adding file: ' + filename)\n",
    "\n",
    "    return file_list\n",
    "\n",
    "unprocessed_files = find_files_to_edit(directory)"
   ]
  },
  {
   "cell_type": "code",
   "execution_count": 39,
   "metadata": {},
   "outputs": [
    {
     "name": "stdout",
     "output_type": "stream",
     "text": [
      "Hx field: 0.0(Oe)\n",
      "\n",
      "Do you wish to seperate these headers? (y/n): n\n",
      "Applied current: 2.0(mA)\n",
      "\n",
      "Do you wish to seperate these headers? (y/n): n\n",
      "Initial Resistance: 2715.0136Ohm\n",
      "\n",
      "Do you wish to seperate these headers? (y/n): n\n",
      "Number Hx Field(Oe) Resistance(Ohm) Real Applied Field (Oe)\n",
      "\n",
      "Input X Values Title: X\n",
      "Input Y Values Title: Y\n",
      "Input X2 Values Title: X2\n",
      "['Hx field: 0.0(Oe)', 'Applied current: 2.0(mA)', 'Initial Resistance: 2715.0136Ohm']\n"
     ]
    }
   ],
   "source": [
    "# get headers, check if x2 data is present\n",
    "new_xy_headers = []\n",
    "old_headers = []\n",
    "sep_list = []\n",
    "sep_index_list = []\n",
    "with open(unprocessed_files[0], 'r') as f:\n",
    "    head = [next(f) for x in range(7)]\n",
    "    if len(head[6].split(' ')) == 4:\n",
    "        x2_flag = True\n",
    "    else:\n",
    "        x2_flag = False\n",
    "    # check headers\n",
    "    for i in range(6):\n",
    "        words = head[i].split(' ')\n",
    "        if words[0] == 'Number':  # last line, get new headers for x and y columns\n",
    "            print(head[i])\n",
    "            header_index = i # index of last header value\n",
    "            new_xy_headers.append(input('Input X Values Title: '))\n",
    "            new_xy_headers.append(input('Input Y Values Title: '))\n",
    "            if x2_flag:  # check if x2 title is needed\n",
    "                new_xy_headers.append(input('Input X2 Values Title: '))\n",
    "            break\n",
    "        elif words[0] != '\\n':\n",
    "            print(head[i])\n",
    "            q = input('Do you wish to seperate these headers? (y/n): ')\n",
    "            if q == 'y' or q == 'Y':\n",
    "                # i.e. I am Neil, he is bob. sep = 'he' results in \"I am Neil, \" and 'he is bob.'\n",
    "                sep = input('Type the word to seperate from: ')  # character to seperate two headers\n",
    "                sep_list.append(sep) \n",
    "                sep_index_list.append(i)\n",
    "                old_headers.append(head[i].split(sep)[0])\n",
    "                old_headers.append(sep + head[i].split(sep)[1].strip('\\n'))\n",
    "            else:\n",
    "                old_headers.append(head[i].strip('\\n'))\n",
    "        else:\n",
    "            pass\n",
    "    f.close()\n",
    "                \n",
    "print(old_headers)"
   ]
  },
  {
   "cell_type": "code",
   "execution_count": 41,
   "metadata": {},
   "outputs": [
    {
     "name": "stdout",
     "output_type": "stream",
     "text": [
      "Hx field: 0.0(Oe)\n",
      "Input new column header: Hz\n",
      "Type string elements to remove: Hx field: (Oe)\n",
      "Applied current: 2.0(mA)\n",
      "Input new column header: Current\n",
      "Type string elements to remove: Applied current: (mA)\n",
      "Initial Resistance: 2715.0136Ohm\n",
      "Input new column header: Init R\n",
      "Type string elements to remove: Initial Resistance: Ohm\n",
      "Deleteing string: Hx field: (Oe) for new header of Hz\n",
      "Deleteing string: Applied current: (mA) for new header of Current\n",
      "Deleteing string: Initial Resistance: Ohm for new header of Init R\n"
     ]
    }
   ],
   "source": [
    "new_headers = []\n",
    "delete_strings = []\n",
    "for string in old_headers:\n",
    "    print(string)\n",
    "    new_headers.append(input('Input new column header: '))\n",
    "    delete_strings.append(input('Type string elements to remove: '))\n",
    "    \n",
    "for ind, string in enumerate(delete_strings):\n",
    "    print(f'For new header of {new_headers[ind]} deleteing string: {string}')"
   ]
  },
  {
   "cell_type": "code",
   "execution_count": 57,
   "metadata": {},
   "outputs": [
    {
     "name": "stdout",
     "output_type": "stream",
     "text": [
      "Removing Hx field: (Oe) from Hx field: 0.0(Oe)\n",
      "\n",
      "Removing Applied current: (mA) from Applied current: 2.0(mA)\n",
      "\n",
      "Removing Initial Resistance: Ohm from Initial Resistance: 2715.0136Ohm\n",
      "\n",
      "Hz with value 0.0\n",
      "Current with value 2.0\n",
      "Init R with value 2715.0136\n",
      "Saved file C:\\Users\\Neuromancer\\Desktop\\Presentation\\Sample Name_AMR_Hx_scan_0.0Oe_2.0mA_2019-11-20-155421.csv\n"
     ]
    }
   ],
   "source": [
    "# find the elements of s1 that are not in s2\n",
    "def remove_strings(s1, s2):\n",
    "    val = ''\n",
    "    for character in difflib.ndiff(s1, s2):\n",
    "        if character[0] == '+' and character[-1] != ' ':\n",
    "            val += character[-1]\n",
    "    return val\n",
    "\n",
    "for file in unprocessed_files:\n",
    "    misc_val = []\n",
    "    x = []\n",
    "    y = []\n",
    "    x2 = []\n",
    "    # extract header values and xy data\n",
    "    with open(file, 'r') as f:\n",
    "        data = f.readlines()\n",
    "        delete_str_ind = 0\n",
    "        for i in range(header_index): # process headers\n",
    "            if data[i] == '\\n':\n",
    "                pass\n",
    "            elif i in sep_list:  # seperate and then extract values\n",
    "                s1 = data[i].split(sep_index_list[sep_list.index(i)])[0]\n",
    "                s2 = sep_index_list[sep_list.index(i)] + data[i].split(sep_index_list[sep_list.index(i)])[1]\n",
    "                misc_val.append(remove_strings(delete_strings[delete_str_ind], s1))\n",
    "                print(f'Removing {delete_strings[delete_str_ind]} from {s1}')\n",
    "                delete_str_ind += 1\n",
    "                misc_val.append(remove_strings(delete_strings[delete_str_ind], s2))\n",
    "                print(f'Removing {delete_strings[delete_str_ind]} from {s2}')\n",
    "                delete_str_ind += 1\n",
    "            else:  # extract values\n",
    "                misc_val.append(remove_strings(delete_strings[delete_str_ind], data[i].strip('\\n')))\n",
    "                print(f'Removing {delete_strings[delete_str_ind]} from {data[i]}')\n",
    "                delete_str_ind += 1\n",
    "        \n",
    "        for ind, elem in enumerate(misc_val):\n",
    "            print(f'{new_headers[ind]} with value {elem}')\n",
    "            \n",
    "        for n in range(header_index+1, len(data)): # extract xy data\n",
    "            d = data[n].split(' ')\n",
    "            x.append(d[1])\n",
    "            y.append(d[2])\n",
    "            if x2_flag:\n",
    "                x2.append(d[3])\n",
    "        f.close()\n",
    "    \n",
    "    # write data to csv\n",
    "    with open(file+'.csv', 'w', newline='', encoding='utf-8') as csvfile:\n",
    "        rewriter = csv.writer(csvfile, dialect='excel')\n",
    "        rewriter.writerow(new_xy_headers + new_headers)\n",
    "        for counter, elem in enumerate(x):\n",
    "            if x2_flag:\n",
    "                rewriter.writerow([elem, y[counter], x2[counter]] + misc_val)\n",
    "            else:\n",
    "                rewriter.writerow([elem, y[counter]] + misc_val)\n",
    "        csvfile.close()\n",
    "    print(f'Saved file {file}.csv')"
   ]
  },
  {
   "cell_type": "code",
   "execution_count": 20,
   "metadata": {},
   "outputs": [
    {
     "name": "stdout",
     "output_type": "stream",
     "text": [
      "3\n"
     ]
    }
   ],
   "source": []
  }
 ],
 "metadata": {
  "kernelspec": {
   "display_name": "Python 3",
   "language": "python",
   "name": "python3"
  },
  "language_info": {
   "codemirror_mode": {
    "name": "ipython",
    "version": 3
   },
   "file_extension": ".py",
   "mimetype": "text/x-python",
   "name": "python",
   "nbconvert_exporter": "python",
   "pygments_lexer": "ipython3",
   "version": "3.6.8"
  }
 },
 "nbformat": 4,
 "nbformat_minor": 2
}
